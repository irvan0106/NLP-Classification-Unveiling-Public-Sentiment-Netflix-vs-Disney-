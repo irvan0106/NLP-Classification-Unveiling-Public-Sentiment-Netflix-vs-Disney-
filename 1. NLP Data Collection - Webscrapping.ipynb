{
 "cells": [
  {
   "cell_type": "markdown",
   "id": "e6fd60a4-ec31-41cc-9bf6-ae348e184bcc",
   "metadata": {},
   "source": [
    "# Problem Statement"
   ]
  },
  {
   "cell_type": "markdown",
   "id": "51d1b10c-c1b6-4dae-a34e-eb89778ffd80",
   "metadata": {},
   "source": [
    "Disney+ was launched in Nov-2019, and has quickly become a major player in the streaming industry. \n",
    "\n",
    "Disney+ is facing formidable challenge to effectively compete with Netflix’s market dominance.\n",
    "\n",
    "This exercise and analysis aims to gain understanding of public perception, user preferences, and emerging trends through Reddit"
   ]
  },
  {
   "cell_type": "markdown",
   "id": "0a665939-08f2-4c42-80e6-11225142ca31",
   "metadata": {},
   "source": [
    "# Reddit Exploration"
   ]
  },
  {
   "cell_type": "markdown",
   "id": "a509c845-a9e0-43e7-80d9-e61a0401ff9e",
   "metadata": {},
   "source": [
    "#### Public Perception from Reddit\n",
    "\n",
    "Every day, millions of people around the world post, vote, and comment in communities organized around their interests.\n",
    "\n",
    "Subreddits are user-created areas of interest where discussions on Reddit are organized, and are denoted by “r/”\r\n",
    "For this exercise, we will scrape the posts from \r\n",
    "r/DisneyPlus vs r/netflent\r\n"
   ]
  },
  {
   "cell_type": "code",
   "execution_count": null,
   "id": "2b8dad0a-d22a-484d-8d28-d253cf4d7924",
   "metadata": {},
   "outputs": [],
   "source": [
    "# Import relevant libraries\n",
    "import requests\n",
    "import time\n",
    "import pandas as pd"
   ]
  },
  {
   "cell_type": "code",
   "execution_count": 6,
   "id": "c358574f-ad51-4e2f-9ca9-8cbdc4b8a6c7",
   "metadata": {},
   "outputs": [],
   "source": [
    "# Provide the url to be scraped and initiate requests\n",
    "disney_url = 'https://www.reddit.com/r/disneyplus/.json'\n",
    "headers = {'User-agent': 'Irvan'}\n",
    "res = requests.get(disney_url, headers=headers)"
   ]
  },
  {
   "cell_type": "code",
   "execution_count": 7,
   "id": "489ca98f-b424-4cf0-972c-e19f90fa3922",
   "metadata": {},
   "outputs": [],
   "source": [
    "# Use status codes to understand how the target server responds to your request.\n",
    "res.status_code"
   ]
  },
  {
   "cell_type": "code",
   "execution_count": 10,
   "id": "6f5bbd3f-ca23-4eb5-be05-3858ad836484",
   "metadata": {},
   "outputs": [],
   "source": [
    "disney_json = res.json()\n",
    "disney_json"
   ]
  },
  {
   "cell_type": "code",
   "execution_count": 12,
   "id": "68c9e13a-5727-4211-8a07-b3651f434a20",
   "metadata": {},
   "outputs": [
    {
     "data": {
      "text/plain": [
       "['data', 'kind']"
      ]
     },
     "execution_count": 12,
     "metadata": {},
     "output_type": "execute_result"
    }
   ],
   "source": [
    "# Evaluate the dictionary keys\n",
    "sorted(disney_json.keys())"
   ]
  },
  {
   "cell_type": "code",
   "execution_count": 13,
   "id": "eda3ae42-2d2c-46b9-8d07-19bb95e2f743",
   "metadata": {},
   "outputs": [
    {
     "data": {
      "text/plain": [
       "['after', 'before', 'children', 'dist', 'geo_filter', 'modhash']"
      ]
     },
     "execution_count": 13,
     "metadata": {},
     "output_type": "execute_result"
    }
   ],
   "source": [
    "# And check the keys inside 'data'\n",
    "sorted(disney_json['data'].keys())"
   ]
  },
  {
   "cell_type": "code",
   "execution_count": 14,
   "id": "0ff55f51-ac1a-4d49-b0bd-775c62874f08",
   "metadata": {},
   "outputs": [
    {
     "data": {
      "text/plain": [
       "{'kind': 't3',\n",
       " 'data': {'approved_at_utc': None,\n",
       "  'subreddit': 'DisneyPlus',\n",
       "  'selftext': 'This movie is NOT bad it’s not my favorite Disney movie but the songs are catchy and it’s a good family movie. I think we forget didn’t had so many hits they can make some that are just good and it’s not the end of the world ',\n",
       "  'author_fullname': 't2_noc710nje',\n",
       "  'saved': False,\n",
       "  'mod_reason_title': None,\n",
       "  'gilded': 0,\n",
       "  'clicked': False,\n",
       "  'title': 'Just watched wish ',\n",
       "  'link_flair_richtext': [{'a': ':Discussion:',\n",
       "    'e': 'emoji',\n",
       "    'u': 'https://emoji.redditmedia.com/8yr06i86r5fa1_t5_r0hux/Discussion'},\n",
       "   {'e': 'text', 't': ' Discussion'}],\n",
       "  'subreddit_name_prefixed': 'r/DisneyPlus',\n",
       "  'hidden': False,\n",
       "  'pwls': 6,\n",
       "  'link_flair_css_class': '',\n",
       "  'downs': 0,\n",
       "  'thumbnail_height': None,\n",
       "  'top_awarded_type': None,\n",
       "  'hide_score': False,\n",
       "  'name': 't3_1bw34pt',\n",
       "  'quarantine': False,\n",
       "  'link_flair_text_color': 'light',\n",
       "  'upvote_ratio': 0.78,\n",
       "  'author_flair_background_color': None,\n",
       "  'subreddit_type': 'public',\n",
       "  'ups': 34,\n",
       "  'total_awards_received': 0,\n",
       "  'media_embed': {},\n",
       "  'thumbnail_width': None,\n",
       "  'author_flair_template_id': None,\n",
       "  'is_original_content': False,\n",
       "  'user_reports': [],\n",
       "  'secure_media': None,\n",
       "  'is_reddit_media_domain': False,\n",
       "  'is_meta': False,\n",
       "  'category': None,\n",
       "  'secure_media_embed': {},\n",
       "  'link_flair_text': ':Discussion: Discussion',\n",
       "  'can_mod_post': False,\n",
       "  'score': 34,\n",
       "  'approved_by': None,\n",
       "  'is_created_from_ads_ui': False,\n",
       "  'author_premium': False,\n",
       "  'thumbnail': 'self',\n",
       "  'edited': False,\n",
       "  'author_flair_css_class': None,\n",
       "  'author_flair_richtext': [],\n",
       "  'gildings': {},\n",
       "  'content_categories': None,\n",
       "  'is_self': True,\n",
       "  'mod_note': None,\n",
       "  'created': 1712274730.0,\n",
       "  'link_flair_type': 'richtext',\n",
       "  'wls': 6,\n",
       "  'removed_by_category': None,\n",
       "  'banned_by': None,\n",
       "  'author_flair_type': 'text',\n",
       "  'domain': 'self.DisneyPlus',\n",
       "  'allow_live_comments': False,\n",
       "  'selftext_html': '&lt;!-- SC_OFF --&gt;&lt;div class=\"md\"&gt;&lt;p&gt;This movie is NOT bad it’s not my favorite Disney movie but the songs are catchy and it’s a good family movie. I think we forget didn’t had so many hits they can make some that are just good and it’s not the end of the world &lt;/p&gt;\\n&lt;/div&gt;&lt;!-- SC_ON --&gt;',\n",
       "  'likes': None,\n",
       "  'suggested_sort': None,\n",
       "  'banned_at_utc': None,\n",
       "  'view_count': None,\n",
       "  'archived': False,\n",
       "  'no_follow': False,\n",
       "  'is_crosspostable': False,\n",
       "  'pinned': False,\n",
       "  'over_18': False,\n",
       "  'all_awardings': [],\n",
       "  'awarders': [],\n",
       "  'media_only': False,\n",
       "  'link_flair_template_id': '4ec2c744-8d9a-11eb-896b-0e658244c665',\n",
       "  'can_gild': False,\n",
       "  'spoiler': False,\n",
       "  'locked': False,\n",
       "  'author_flair_text': None,\n",
       "  'treatment_tags': [],\n",
       "  'visited': False,\n",
       "  'removed_by': None,\n",
       "  'num_reports': None,\n",
       "  'distinguished': None,\n",
       "  'subreddit_id': 't5_r0hux',\n",
       "  'author_is_blocked': False,\n",
       "  'mod_reason_by': None,\n",
       "  'removal_reason': None,\n",
       "  'link_flair_background_color': '#007373',\n",
       "  'id': '1bw34pt',\n",
       "  'is_robot_indexable': True,\n",
       "  'report_reasons': None,\n",
       "  'author': 'Substantial_Pie_8619',\n",
       "  'discussion_type': None,\n",
       "  'num_comments': 37,\n",
       "  'send_replies': True,\n",
       "  'whitelist_status': 'all_ads',\n",
       "  'contest_mode': False,\n",
       "  'mod_reports': [],\n",
       "  'author_patreon_flair': False,\n",
       "  'author_flair_text_color': None,\n",
       "  'permalink': '/r/DisneyPlus/comments/1bw34pt/just_watched_wish/',\n",
       "  'parent_whitelist_status': 'all_ads',\n",
       "  'stickied': False,\n",
       "  'url': 'https://www.reddit.com/r/DisneyPlus/comments/1bw34pt/just_watched_wish/',\n",
       "  'subreddit_subscribers': 1014928,\n",
       "  'created_utc': 1712274730.0,\n",
       "  'num_crossposts': 0,\n",
       "  'media': None,\n",
       "  'is_video': False}}"
      ]
     },
     "execution_count": 14,
     "metadata": {},
     "output_type": "execute_result"
    }
   ],
   "source": [
    "# The posts are contained in the 'children' key, hence, check and see what is inside 'children'\n",
    "disney_json['data']['children'][2]"
   ]
  },
  {
   "cell_type": "code",
   "execution_count": 15,
   "id": "f65a8707-93ca-460b-80c4-9b3df715bb87",
   "metadata": {},
   "outputs": [
    {
     "data": {
      "text/plain": [
       "'t3_1bv325e'"
      ]
     },
     "execution_count": 15,
     "metadata": {},
     "output_type": "execute_result"
    }
   ],
   "source": [
    "disney_json['data']['after']"
   ]
  },
  {
   "cell_type": "markdown",
   "id": "e3561620-fc40-43c0-851c-5f7b995ac1f0",
   "metadata": {},
   "source": [
    "# Gather Data\n",
    "\n",
    "In this code, we collect data by fetching the posts from various sections of the r/DisneyPlus and r/netflix subreddit using the Reddit API. It makes requests to different URLs representing the **hot, new, top, and rising** posts and collects information about each post, including its **ID, title, selftext, creation date, URL, and upvote ratio**. Here are the details of each section:\n",
    "\n",
    "1. id: contains the numerical ID of specific user\n",
    "2. title: contains the title of the post\n",
    "3. selftext: contains the body text of the post, where the author expresses their opinion and raises questions about the accuracy of the content\n",
    "4. creation_date: specifies the timestamp of when the post was created in Unix time format\n",
    "5. upvote_ratio: denotes the ratio of upvotes to total votes cast on the postlble.."
   ]
  },
  {
   "cell_type": "markdown",
   "id": "b7a947db-5d54-49a4-a9e3-d24f7942227f",
   "metadata": {},
   "source": [
    "### DisneyPlus Reddit Data Scraping"
   ]
  },
  {
   "cell_type": "code",
   "execution_count": 17,
   "id": "6be5c541-661a-47d9-8e83-b685d8af143e",
   "metadata": {},
   "outputs": [],
   "source": [
    "# Create empty list and provide the URLs from which we will get the content from\n",
    "\n",
    "disney_posts = []\n",
    "disney_post_ids = set()\n",
    "after = None\n",
    "headers = {'User-Agent': 'Irvan'}\n",
    "disney_urls = ['https://www.reddit.com/r/DisneyPlus/hot/.json', \n",
    "        'https://www.reddit.com/r/DisneyPlus/new/.json', \n",
    "        'https://www.reddit.com/r/DisneyPlus/top/.json',\n",
    "        'https://www.reddit.com/r/DisneyPlus/rising/.json']\n",
    "\n",
    "# Create a for loop to make 50 requests for each of the url\n",
    "for url in disney_urls:\n",
    "    for i in range(50):\n",
    "        if after is None:\n",
    "            params = {}\n",
    "        else:\n",
    "            params = {'after': after}\n",
    "        res = requests.get(url, params=params, headers=headers)\n",
    "\n",
    "# Scrape the content of each URL and get the required fields\n",
    "        if res.status_code == 200:\n",
    "            json_data = res.json()\n",
    "            for post in json_data['data']['children']:\n",
    "                post_id = post['data']['id']\n",
    "                if post_id not in disney_post_ids:\n",
    "                    post_data = {\n",
    "                        'id': post_id,\n",
    "                        'title': post['data']['title'],\n",
    "                        'selftext': post['data']['selftext'],\n",
    "                        'created_date': post['data']['created'],\n",
    "                        'url': post['data']['url'],\n",
    "                        'upvote_ratio': post['data']['upvote_ratio'],\n",
    "                        'num_comments': post['data']['num_comments']\n",
    "                    }\n",
    "                    disney_posts.append(post_data)\n",
    "                    disney_post_ids.add(post_id)\n",
    "            after = json_data['data']['after']\n",
    "        else:\n",
    "            print(res.status_code)\n",
    "            break\n",
    "# Add a delay to avoid hitting rate limits\n",
    "        time.sleep(1)  "
   ]
  },
  {
   "cell_type": "markdown",
   "id": "00f9f9bc-7176-4928-8b5b-7bbe42142652",
   "metadata": {},
   "source": [
    "### Netflix Reddit Data Scrapping"
   ]
  },
  {
   "cell_type": "code",
   "execution_count": 18,
   "id": "d25ff718-0cba-41dc-bcab-8c8b817b2d6f",
   "metadata": {},
   "outputs": [],
   "source": [
    "# Apply the same code to request posts from r/netflix subreddit\n",
    "\n",
    "netflix_posts = []\n",
    "netflix_post_ids = set()\n",
    "after = None\n",
    "headers = {'User-Agent': 'Irvan'}\n",
    "netflix_urls = ['https://www.reddit.com/r/netflix/hot/.json', \n",
    "        'https://www.reddit.com/r/netflix/new/.json', \n",
    "        'https://www.reddit.com/r/netflix/top/.json',\n",
    "        'https://www.reddit.com/r/netflix/rising/.json']\n",
    "\n",
    "for url in netflix_urls:\n",
    "    for i in range(50):  # Make 50 requests for each url\n",
    "        if after is None:\n",
    "            params = {}\n",
    "        else:\n",
    "            params = {'after': after}\n",
    "        res = requests.get(url, params=params, headers=headers)\n",
    "        \n",
    "        if res.status_code == 200:\n",
    "            json_data = res.json()\n",
    "            for post in json_data['data']['children']:\n",
    "                post_id = post['data']['id']\n",
    "                if post_id not in netflix_post_ids:\n",
    "                    post_data = {\n",
    "                        'id': post_id,\n",
    "                        'title': post['data']['title'],\n",
    "                        'selftext': post['data']['selftext'],\n",
    "                        'created_date': post['data']['created'],\n",
    "                        'url': post['data']['url'],\n",
    "                        'upvote_ratio': post['data']['upvote_ratio'],\n",
    "                    }\n",
    "                    netflix_posts.append(post_data)\n",
    "                    netflix_post_ids.add(post_id)\n",
    "            after = json_data['data']['after']\n",
    "        else:\n",
    "            print(res.status_code)\n",
    "            break\n",
    "        \n",
    "        time.sleep(1)  # Add a delay to avoid hitting rate limits"
   ]
  },
  {
   "cell_type": "code",
   "execution_count": 21,
   "id": "ba1dae61-607a-4c78-b049-148d268db0ac",
   "metadata": {},
   "outputs": [],
   "source": [
    "# Update the collected disney+ post into a dataframe and export it to CSV\n",
    "disney_df = pd.DataFrame(disney_posts)\n",
    "disney_df.to_csv('disney_data.csv')"
   ]
  },
  {
   "cell_type": "code",
   "execution_count": 23,
   "id": "103f59e1-6cdf-4c7b-a62e-aa51bd1abca2",
   "metadata": {},
   "outputs": [],
   "source": [
    "# Update the collected disney+ post into a dataframe and export it to CSV\n",
    "netflix_df = pd.DataFrame(netflix_posts)\n",
    "netflix_df.to_csv('netflix_data.csv')"
   ]
  }
 ],
 "metadata": {
  "kernelspec": {
   "display_name": "Python 3 (ipykernel)",
   "language": "python",
   "name": "python3"
  },
  "language_info": {
   "codemirror_mode": {
    "name": "ipython",
    "version": 3
   },
   "file_extension": ".py",
   "mimetype": "text/x-python",
   "name": "python",
   "nbconvert_exporter": "python",
   "pygments_lexer": "ipython3",
   "version": "3.10.13"
  }
 },
 "nbformat": 4,
 "nbformat_minor": 5
}
